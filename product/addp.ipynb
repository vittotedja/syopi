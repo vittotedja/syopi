{
 "cells": [
  {
   "cell_type": "code",
   "execution_count": 1,
   "metadata": {},
   "outputs": [],
   "source": [
    "import pandas as pd"
   ]
  },
  {
   "cell_type": "code",
   "execution_count": 2,
   "metadata": {},
   "outputs": [],
   "source": [
    "df = pd.read_csv('../dataset.csv')"
   ]
  },
  {
   "cell_type": "code",
   "execution_count": 3,
   "metadata": {},
   "outputs": [],
   "source": [
    "df = df.rename(columns={'shopid': 'ShopId', 'item_name': 'ProductName', 'price': 'Price',  'stock': 'Stock','item_description': 'Description', 'category': 'Category'})[['ShopId', 'ProductName', 'Price', 'Stock', 'Description', 'Category']]"
   ]
  },
  {
   "cell_type": "code",
   "execution_count": 4,
   "metadata": {},
   "outputs": [],
   "source": [
    "from dotenv import load_dotenv\n",
    "load_dotenv()\n",
    "import os\n",
    "from supabase import create_client\n",
    "url = os.environ.get(\"SUPABASE_URL\")\n",
    "key = os.environ.get(\"SUPABASE_KEY\")\n",
    "supabase = create_client(url, key)"
   ]
  },
  {
   "cell_type": "code",
   "execution_count": 7,
   "metadata": {},
   "outputs": [
    {
     "data": {
      "text/plain": [
       "[{'ShopId': 210000,\n",
       "  'ProductName': 'Golden mobile numbers',\n",
       "  'Price': 400.0,\n",
       "  'Stock': 1,\n",
       "  'Description': 'Unregistered prepaid cards1) 93355333  selling @ $4002) 81606060  selling @ $500Please contact @ 98152128 / 96911808',\n",
       "  'Category': 'Mobile & Gadgets'},\n",
       " {'ShopId': 210000,\n",
       "  'ProductName': 'Golden mobile numbers',\n",
       "  'Price': 400.0,\n",
       "  'Stock': 1,\n",
       "  'Description': 'Unregistered prepaid cards1) 93355888  selling @ $4002) 93355500  selling @ $500Please contact @ 98152128 / 96911808',\n",
       "  'Category': 'Mobile & Gadgets'}]"
      ]
     },
     "execution_count": 7,
     "metadata": {},
     "output_type": "execute_result"
    }
   ],
   "source": [
    "test_data = df.iloc[0:2].to_dict('records')\n",
    "test_data"
   ]
  },
  {
   "cell_type": "code",
   "execution_count": 8,
   "metadata": {},
   "outputs": [
    {
     "data": {
      "text/plain": [
       "APIResponse(data=[{'ProductId': 'dc22a5ee-db9d-4038-aae3-f5b78fdd2d0d', 'ProductName': 'Golden mobile numbers', 'Stock': 1, 'ShopId': '210000', 'AvgRating': 0, 'Price': 400, 'Description': 'Unregistered prepaid cards1) 93355333  selling @ $4002) 81606060  selling @ $500Please contact @ 98152128 / 96911808', 'Category': 'Mobile & Gadgets'}, {'ProductId': 'a96deabf-4156-4460-b462-2f3367d4c319', 'ProductName': 'Golden mobile numbers', 'Stock': 1, 'ShopId': '210000', 'AvgRating': 0, 'Price': 400, 'Description': 'Unregistered prepaid cards1) 93355888  selling @ $4002) 93355500  selling @ $500Please contact @ 98152128 / 96911808', 'Category': 'Mobile & Gadgets'}], count=None)"
      ]
     },
     "execution_count": 8,
     "metadata": {},
     "output_type": "execute_result"
    }
   ],
   "source": [
    "supabase.table('product').insert(test_data).execute()"
   ]
  },
  {
   "cell_type": "code",
   "execution_count": null,
   "metadata": {},
   "outputs": [],
   "source": []
  }
 ],
 "metadata": {
  "kernelspec": {
   "display_name": "base",
   "language": "python",
   "name": "python3"
  },
  "language_info": {
   "codemirror_mode": {
    "name": "ipython",
    "version": 3
   },
   "file_extension": ".py",
   "mimetype": "text/x-python",
   "name": "python",
   "nbconvert_exporter": "python",
   "pygments_lexer": "ipython3",
   "version": "3.9.15"
  },
  "orig_nbformat": 4
 },
 "nbformat": 4,
 "nbformat_minor": 2
}
