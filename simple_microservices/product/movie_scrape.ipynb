{
 "cells": [
  {
   "cell_type": "code",
   "execution_count": 2,
   "metadata": {},
   "outputs": [],
   "source": [
    "import concurrent.futures\n",
    "from selenium import webdriver\n",
    "from selenium.webdriver.common.by import By\n",
    "from selenium.webdriver.firefox.options import Options\n",
    "from selenium.webdriver.common.desired_capabilities import DesiredCapabilities\n",
    "import time\n",
    "import locale\n",
    "import pandas as pd\n",
    "import threading\n",
    "import random\n",
    "import urllib.parse\n",
    "\n",
    "locale.setlocale(locale.LC_ALL, 'en_US.UTF-8')\n",
    "headers = {\"user-agent\": \"Mozilla/5.0 (Windows NT 10.0; Win64; x64) AppleWebKit/537.36 (KHTML, like Gecko) Chrome/108.0.0.0 Safari/537.36\"}"
   ]
  },
  {
   "cell_type": "code",
   "execution_count": 6,
   "metadata": {},
   "outputs": [],
   "source": [
    "df = pd.read_csv('../dataset.csv')\n",
    "# scraped = pd.read_csv('./product.csv')\n",
    "df = df.rename(columns={'shopid': 'ShopId', 'item_name': 'ProductName', 'price': 'Price',  'stock': 'Stock','item_description': 'Description', 'category': 'Category'})[['ShopId', 'ProductName', 'Price', 'Stock', 'Description', 'Category']]\n",
    "df = df.drop_duplicates(subset=['ProductName']).reset_index(drop=True)"
   ]
  },
  {
   "cell_type": "code",
   "execution_count": 7,
   "metadata": {},
   "outputs": [],
   "source": [
    "\n",
    "MAX_LINKS_TO_FETCH = 3\n",
    "\n",
    "def get_image_urls(product):\n",
    "    options = webdriver.ChromeOptions()\n",
    "    options.add_argument('headless')\n",
    "    driver = webdriver.Chrome(options=options)\n",
    "    driver.implicitly_wait(10)\n",
    "\n",
    "    link = f'https://www.google.com/search?q={product}&hl=en-US&source=lnms&tbm=isch&sa=X&ved=2ahUKEwj7ldOXuuP9AhUlTmwGHdZhAeIQ_AUoAnoECAEQBA&biw=1277&bih=1363&dpr=1'\n",
    "    driver.get(link)\n",
    "\n",
    "    image_urls = set()\n",
    "    # Scroll to the bottom of the page to load more images\n",
    "    last_height = driver.execute_script(\"return document.body.scrollHeight\")\n",
    "    while True:\n",
    "        driver.execute_script(\"window.scrollTo(0, document.body.scrollHeight);\")\n",
    "        driver.implicitly_wait(2)\n",
    "        new_height = driver.execute_script(\"return document.body.scrollHeight\")\n",
    "        if new_height == last_height:\n",
    "            break\n",
    "        last_height = new_height\n",
    "\n",
    "    thumbnails = driver.find_elements(By.CSS_SELECTOR, 'img.Q4LuWd')\n",
    "\n",
    "    for img in thumbnails[0:MAX_LINKS_TO_FETCH]:\n",
    "        try:\n",
    "            img.click()\n",
    "            driver.implicitly_wait(2)\n",
    "        except Exception: \n",
    "            continue\n",
    "\n",
    "        actual_images = driver.find_elements(By.CSS_SELECTOR,'img.n3VNCb')\n",
    "        for actual_image in actual_images:\n",
    "            src = actual_image.get_attribute('src')\n",
    "            if src and 'http' in src and src not in image_urls:\n",
    "                image_urls.append(src)\n",
    "\n",
    "        if len(image_urls) >= MAX_LINKS_TO_FETCH:\n",
    "            break\n",
    "        \n",
    "    driver.quit()\n",
    "    return ','.join(image_urls)"
   ]
  },
  {
   "cell_type": "code",
   "execution_count": 9,
   "metadata": {},
   "outputs": [
    {
     "name": "stdout",
     "output_type": "stream",
     "text": [
      "Started scraping on product #10000"
     ]
    }
   ],
   "source": [
    "prefix = 'https://www.google.com/search?q='\n",
    "suffix = '&hl=en-US&source=lnms&tbm=isch&sa=X&ved=2ahUKEwj7ldOXuuP9AhUlTmwGHdZhAeIQ_AUoAnoECAEQBA&biw=1277&bih=1363&dpr=1'\n",
    "products = df.ProductName.apply(str).apply(urllib.parse.quote_plus).values\n",
    "# image_urls = df.image_urls.values\n",
    "\n",
    "# i = 0\n",
    "# thread_list = list()\n",
    "\n",
    "# for product in products:\n",
    "#     if pd.isna(scraped.image_urls.loc[i]):\n",
    "#         link = f'{prefix}{product}{suffix}'\n",
    "#         t = threading.Thread(target=get_image_urls, args=(i, link), daemon=True)\n",
    "#         t.start()\n",
    "#         time.sleep(max(random.random(), 0.1) + 0.2)\n",
    "#         thread_list.append(t)\n",
    "#     i += 1\n",
    "\n",
    "# for thread in thread_list:\n",
    "#     thread.join()\n",
    "with concurrent.futures.ThreadPoolExecutor(max_workers=10) as executor:\n",
    "        futures = []\n",
    "        for i, product in enumerate(products):\n",
    "            # if pd.isna(image_urls[i]) or not image_urls[i]:\n",
    "            if i <= 10000:\n",
    "                futures.append(executor.submit(get_image_urls, product))\n",
    "                print(f'\\rStarted scraping on product #{i}', end='')\n",
    "            else:\n",
    "                break\n",
    "\n",
    "        for i, future in enumerate(futures):\n",
    "            image_urls = future.result()\n",
    "            if image_urls:\n",
    "                df.loc[i, 'image_urls'] = image_urls\n",
    "\n",
    "            print(f'\\rFinished scraping on product #{i}', end='')\n",
    "            \n",
    "\n",
    "print('Test completed!')"
   ]
  },
  {
   "cell_type": "code",
   "execution_count": 4,
   "metadata": {},
   "outputs": [
    {
     "data": {
      "text/plain": [
       "10443"
      ]
     },
     "execution_count": 4,
     "metadata": {},
     "output_type": "execute_result"
    }
   ],
   "source": [
    "scraped.image_urls.count()"
   ]
  },
  {
   "cell_type": "code",
   "execution_count": 12,
   "metadata": {},
   "outputs": [
    {
     "data": {
      "text/plain": [
       "10680"
      ]
     },
     "execution_count": 12,
     "metadata": {},
     "output_type": "execute_result"
    }
   ],
   "source": [
    "scraped.image_urls.count()"
   ]
  },
  {
   "cell_type": "code",
   "execution_count": null,
   "metadata": {},
   "outputs": [],
   "source": [
    "for product in products:\n",
    "    if not product.image_urls:\n",
    "        print(product)"
   ]
  },
  {
   "cell_type": "code",
   "execution_count": 25,
   "metadata": {},
   "outputs": [],
   "source": [
    "if not scraped.image_urls.loc[118342]:\n",
    "    print(True)"
   ]
  },
  {
   "cell_type": "code",
   "execution_count": 3,
   "metadata": {},
   "outputs": [
    {
     "data": {
      "text/html": [
       "<div>\n",
       "<style scoped>\n",
       "    .dataframe tbody tr th:only-of-type {\n",
       "        vertical-align: middle;\n",
       "    }\n",
       "\n",
       "    .dataframe tbody tr th {\n",
       "        vertical-align: top;\n",
       "    }\n",
       "\n",
       "    .dataframe thead th {\n",
       "        text-align: right;\n",
       "    }\n",
       "</style>\n",
       "<table border=\"1\" class=\"dataframe\">\n",
       "  <thead>\n",
       "    <tr style=\"text-align: right;\">\n",
       "      <th></th>\n",
       "      <th>ShopId</th>\n",
       "      <th>ProductName</th>\n",
       "      <th>Price</th>\n",
       "      <th>Stock</th>\n",
       "      <th>Description</th>\n",
       "      <th>Category</th>\n",
       "      <th>image_urls</th>\n",
       "    </tr>\n",
       "  </thead>\n",
       "  <tbody>\n",
       "    <tr>\n",
       "      <th>0</th>\n",
       "      <td>210000</td>\n",
       "      <td>Golden mobile numbers</td>\n",
       "      <td>400.00</td>\n",
       "      <td>1</td>\n",
       "      <td>Unregistered prepaid cards1) 93355333  selling...</td>\n",
       "      <td>Mobile &amp; Gadgets</td>\n",
       "      <td>NaN</td>\n",
       "    </tr>\n",
       "    <tr>\n",
       "      <th>1</th>\n",
       "      <td>210000</td>\n",
       "      <td>Golden Mobile Numbers</td>\n",
       "      <td>8.00</td>\n",
       "      <td>1</td>\n",
       "      <td>Unregistered prepaid cards. Can port to post p...</td>\n",
       "      <td>Mobile &amp; Gadgets</td>\n",
       "      <td>https://media.karousell.com/media/photos/produ...</td>\n",
       "    </tr>\n",
       "    <tr>\n",
       "      <th>2</th>\n",
       "      <td>760000</td>\n",
       "      <td>101% AUTHENTIC BASEBALL CAPS</td>\n",
       "      <td>35.00</td>\n",
       "      <td>300</td>\n",
       "      <td>PREORDER Takes about 23 weeks to arrive, will ...</td>\n",
       "      <td>Women's Apparel</td>\n",
       "      <td>https://media.karousell.com/media/photos/produ...</td>\n",
       "    </tr>\n",
       "    <tr>\n",
       "      <th>3</th>\n",
       "      <td>11272000</td>\n",
       "      <td>Hada Labo Super Hydrating Perfect Gel Moisturi...</td>\n",
       "      <td>28.72</td>\n",
       "      <td>8</td>\n",
       "      <td>Hada Labo Super Hydrating Perfect Gel Moisturi...</td>\n",
       "      <td>Health &amp; Beauty</td>\n",
       "      <td>https://gphb01pdazurefileshare.blob.core.windo...</td>\n",
       "    </tr>\n",
       "    <tr>\n",
       "      <th>4</th>\n",
       "      <td>49082000</td>\n",
       "      <td>Women Lace Bra Bustier Crop Tops Soft Mesh Tri...</td>\n",
       "      <td>9.98</td>\n",
       "      <td>400</td>\n",
       "      <td>Material: Terylene Colors: BalckStyle: Sexy Br...</td>\n",
       "      <td>Women's Apparel</td>\n",
       "      <td>NaN</td>\n",
       "    </tr>\n",
       "    <tr>\n",
       "      <th>...</th>\n",
       "      <td>...</td>\n",
       "      <td>...</td>\n",
       "      <td>...</td>\n",
       "      <td>...</td>\n",
       "      <td>...</td>\n",
       "      <td>...</td>\n",
       "      <td>...</td>\n",
       "    </tr>\n",
       "    <tr>\n",
       "      <th>118342</th>\n",
       "      <td>13744999</td>\n",
       "      <td>Cute Flower Sleeveless Mesh Baby Girls Dress</td>\n",
       "      <td>7.57</td>\n",
       "      <td>0</td>\n",
       "      <td>Style: Cute Material: Cotton Fabric Type: Broa...</td>\n",
       "      <td>Toys, Kids &amp; Babies</td>\n",
       "      <td>NaN</td>\n",
       "    </tr>\n",
       "    <tr>\n",
       "      <th>118343</th>\n",
       "      <td>13744999</td>\n",
       "      <td>Babies Beanie Hat Han Edition Cotton Letter Pr...</td>\n",
       "      <td>1.40</td>\n",
       "      <td>0</td>\n",
       "      <td>Gender: Unisex Item Type: Baby Hat Material: C...</td>\n",
       "      <td>Toys, Kids &amp; Babies</td>\n",
       "      <td>NaN</td>\n",
       "    </tr>\n",
       "    <tr>\n",
       "      <th>118344</th>\n",
       "      <td>13744999</td>\n",
       "      <td>Women Back Brest Dress Package Hips Dress</td>\n",
       "      <td>7.70</td>\n",
       "      <td>0</td>\n",
       "      <td>Type: Dress Gender: Womens Size Type: Regular ...</td>\n",
       "      <td>Women's Apparel</td>\n",
       "      <td>NaN</td>\n",
       "    </tr>\n",
       "    <tr>\n",
       "      <th>118345</th>\n",
       "      <td>13744999</td>\n",
       "      <td>Heart Alloy Pendant Necklace for women</td>\n",
       "      <td>0.60</td>\n",
       "      <td>0</td>\n",
       "      <td>Gender: For Women Item Type: Pendant Necklaces...</td>\n",
       "      <td>Jewellery &amp; Accessories</td>\n",
       "      <td>NaN</td>\n",
       "    </tr>\n",
       "    <tr>\n",
       "      <th>118346</th>\n",
       "      <td>13744999</td>\n",
       "      <td>Women Mid Elastic Waist Straight Shorts</td>\n",
       "      <td>2.00</td>\n",
       "      <td>0</td>\n",
       "      <td>Style: Active Length: Mini Material: Nylon,Pol...</td>\n",
       "      <td>Women's Apparel</td>\n",
       "      <td>NaN</td>\n",
       "    </tr>\n",
       "  </tbody>\n",
       "</table>\n",
       "<p>118347 rows × 7 columns</p>\n",
       "</div>"
      ],
      "text/plain": [
       "          ShopId                                        ProductName   Price  \\\n",
       "0         210000                              Golden mobile numbers  400.00   \n",
       "1         210000                              Golden Mobile Numbers    8.00   \n",
       "2         760000                       101% AUTHENTIC BASEBALL CAPS   35.00   \n",
       "3       11272000  Hada Labo Super Hydrating Perfect Gel Moisturi...   28.72   \n",
       "4       49082000  Women Lace Bra Bustier Crop Tops Soft Mesh Tri...    9.98   \n",
       "...          ...                                                ...     ...   \n",
       "118342  13744999       Cute Flower Sleeveless Mesh Baby Girls Dress    7.57   \n",
       "118343  13744999  Babies Beanie Hat Han Edition Cotton Letter Pr...    1.40   \n",
       "118344  13744999          Women Back Brest Dress Package Hips Dress    7.70   \n",
       "118345  13744999             Heart Alloy Pendant Necklace for women    0.60   \n",
       "118346  13744999            Women Mid Elastic Waist Straight Shorts    2.00   \n",
       "\n",
       "        Stock                                        Description  \\\n",
       "0           1  Unregistered prepaid cards1) 93355333  selling...   \n",
       "1           1  Unregistered prepaid cards. Can port to post p...   \n",
       "2         300  PREORDER Takes about 23 weeks to arrive, will ...   \n",
       "3           8  Hada Labo Super Hydrating Perfect Gel Moisturi...   \n",
       "4         400  Material: Terylene Colors: BalckStyle: Sexy Br...   \n",
       "...       ...                                                ...   \n",
       "118342      0  Style: Cute Material: Cotton Fabric Type: Broa...   \n",
       "118343      0  Gender: Unisex Item Type: Baby Hat Material: C...   \n",
       "118344      0  Type: Dress Gender: Womens Size Type: Regular ...   \n",
       "118345      0  Gender: For Women Item Type: Pendant Necklaces...   \n",
       "118346      0  Style: Active Length: Mini Material: Nylon,Pol...   \n",
       "\n",
       "                       Category  \\\n",
       "0              Mobile & Gadgets   \n",
       "1              Mobile & Gadgets   \n",
       "2               Women's Apparel   \n",
       "3               Health & Beauty   \n",
       "4               Women's Apparel   \n",
       "...                         ...   \n",
       "118342      Toys, Kids & Babies   \n",
       "118343      Toys, Kids & Babies   \n",
       "118344          Women's Apparel   \n",
       "118345  Jewellery & Accessories   \n",
       "118346          Women's Apparel   \n",
       "\n",
       "                                               image_urls  \n",
       "0                                                     NaN  \n",
       "1       https://media.karousell.com/media/photos/produ...  \n",
       "2       https://media.karousell.com/media/photos/produ...  \n",
       "3       https://gphb01pdazurefileshare.blob.core.windo...  \n",
       "4                                                     NaN  \n",
       "...                                                   ...  \n",
       "118342                                                NaN  \n",
       "118343                                                NaN  \n",
       "118344                                                NaN  \n",
       "118345                                                NaN  \n",
       "118346                                                NaN  \n",
       "\n",
       "[118347 rows x 7 columns]"
      ]
     },
     "execution_count": 3,
     "metadata": {},
     "output_type": "execute_result"
    }
   ],
   "source": [
    "scraped"
   ]
  },
  {
   "cell_type": "code",
   "execution_count": 30,
   "metadata": {},
   "outputs": [
    {
     "data": {
      "text/plain": [
       "''"
      ]
     },
     "execution_count": 30,
     "metadata": {},
     "output_type": "execute_result"
    }
   ],
   "source": [
    "scraped.image_urls.loc[0]"
   ]
  },
  {
   "cell_type": "code",
   "execution_count": null,
   "metadata": {},
   "outputs": [],
   "source": []
  }
 ],
 "metadata": {
  "kernelspec": {
   "display_name": "Python 3 (ipykernel)",
   "language": "python",
   "name": "python3"
  },
  "language_info": {
   "codemirror_mode": {
    "name": "ipython",
    "version": 3
   },
   "file_extension": ".py",
   "mimetype": "text/x-python",
   "name": "python",
   "nbconvert_exporter": "python",
   "pygments_lexer": "ipython3",
   "version": "3.10.6"
  }
 },
 "nbformat": 4,
 "nbformat_minor": 2
}
